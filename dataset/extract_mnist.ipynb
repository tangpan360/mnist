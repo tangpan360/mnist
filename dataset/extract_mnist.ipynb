{
 "cells": [
  {
   "cell_type": "code",
   "execution_count": 3,
   "outputs": [],
   "source": [
    "import os\n",
    "os.mkdir('mnist')"
   ],
   "metadata": {
    "collapsed": false,
    "pycharm": {
     "name": "#%%\n"
    }
   }
  },
  {
   "cell_type": "code",
   "execution_count": 4,
   "metadata": {
    "collapsed": false,
    "pycharm": {
     "name": "#%%\n"
    }
   },
   "outputs": [],
   "source": [
    "import numpy as np\n",
    "import struct\n",
    "\n",
    "from PIL import Image\n",
    "import os\n",
    "\n",
    "data_file = r'./train-images.idx3-ubyte'\n",
    "# It's 47040016B, but we should set to 47040000B\n",
    "data_file_size = 47040016\n",
    "data_file_size = str(data_file_size - 16) + 'B'\n",
    "data_buf = open(data_file, 'rb').read()\n",
    "magic, numImages, numRows, numColumns = struct.unpack_from(\n",
    "    '>IIII', data_buf, 0)\n",
    "datas = struct.unpack_from(\n",
    "    '>' + data_file_size, data_buf, struct.calcsize('>IIII'))\n",
    "datas = np.array(datas).astype(np.uint8).reshape(\n",
    "    numImages, 1, numRows, numColumns)\n",
    "label_file = r'./train-labels.idx1-ubyte'\n",
    "# It's 60008B, but we should set to 60000B\n",
    "label_file_size = 60008\n",
    "label_file_size = str(label_file_size - 8) + 'B'\n",
    "\n",
    "label_buf = open(label_file, 'rb').read()\n",
    "\n",
    "magic, numLabels = struct.unpack_from('>II', label_buf, 0)\n",
    "labels = struct.unpack_from(\n",
    "    '>' + label_file_size, label_buf, struct.calcsize('>II'))\n",
    "labels = np.array(labels).astype(np.int64)\n",
    "\n",
    "datas_root = './mnist/mnist_train'\n",
    "if not os.path.exists(datas_root):\n",
    "    os.mkdir(datas_root)\n",
    "\n",
    "for i in range(10):\n",
    "    file_name = datas_root + os.sep + str(i)\n",
    "    if not os.path.exists(file_name):\n",
    "        os.mkdir(file_name)\n",
    "\n",
    "for ii in range(numLabels):\n",
    "    img = Image.fromarray(datas[ii, 0, 0:28, 0:28])\n",
    "    label = labels[ii]\n",
    "    file_name = datas_root + os.sep + str(label) + os.sep + \\\n",
    "                'mnist_train_' + str(ii) + '.png'\n",
    "    img.save(file_name)"
   ]
  },
  {
   "cell_type": "code",
   "execution_count": 6,
   "metadata": {
    "collapsed": false,
    "pycharm": {
     "name": "#%%\n"
    }
   },
   "outputs": [],
   "source": [
    "import numpy as np\n",
    "import struct\n",
    "\n",
    "from PIL import Image\n",
    "import os\n",
    "\n",
    "data_file = r'./t10k-images.idx3-ubyte'\n",
    "# It's 7840016B, but we should set to 7840000B\n",
    "data_file_size = 7840016\n",
    "data_file_size = str(data_file_size - 16) + 'B'\n",
    "data_buf = open(data_file, 'rb').read()\n",
    "magic, numImages, numRows, numColumns = struct.unpack_from(\n",
    "    '>IIII', data_buf, 0)\n",
    "datas = struct.unpack_from(\n",
    "    '>' + data_file_size, data_buf, struct.calcsize('>IIII'))\n",
    "datas = np.array(datas).astype(np.uint8).reshape(\n",
    "    numImages, 1, numRows, numColumns)\n",
    "label_file = r'./t10k-labels.idx1-ubyte'\n",
    "# It's 10008B, but we should set to 10000B\n",
    "label_file_size = 10008\n",
    "label_file_size = str(label_file_size - 8) + 'B'\n",
    "\n",
    "label_buf = open(label_file, 'rb').read()\n",
    "\n",
    "magic, numLabels = struct.unpack_from('>II', label_buf, 0)\n",
    "labels = struct.unpack_from(\n",
    "    '>' + label_file_size, label_buf, struct.calcsize('>II'))\n",
    "labels = np.array(labels).astype(np.int64)\n",
    "\n",
    "datas_root = './mnist/mnist_test'\n",
    "if not os.path.exists(datas_root):\n",
    "    os.mkdir(datas_root)\n",
    "\n",
    "for i in range(10):\n",
    "    file_name = datas_root + os.sep + str(i)\n",
    "    if not os.path.exists(file_name):\n",
    "        os.mkdir(file_name)\n",
    "\n",
    "for ii in range(numLabels):\n",
    "    img = Image.fromarray(datas[ii, 0, 0:28, 0:28])\n",
    "    label = labels[ii]\n",
    "    file_name = datas_root + os.sep + str(label) + os.sep + \\\n",
    "                'mnist_test_' + str(ii) + '.png'\n",
    "    img.save(file_name)"
   ]
  },
  {
   "cell_type": "code",
   "execution_count": null,
   "outputs": [],
   "source": [],
   "metadata": {
    "collapsed": false,
    "pycharm": {
     "name": "#%%\n"
    }
   }
  }
 ],
 "metadata": {
  "kernelspec": {
   "display_name": "Python 3",
   "language": "python",
   "name": "python3"
  },
  "language_info": {
   "codemirror_mode": {
    "name": "ipython",
    "version": 3
   },
   "file_extension": ".py",
   "mimetype": "text/x-python",
   "name": "python",
   "nbconvert_exporter": "python",
   "pygments_lexer": "ipython3",
   "version": "3.9.18"
  }
 },
 "nbformat": 4,
 "nbformat_minor": 0
}